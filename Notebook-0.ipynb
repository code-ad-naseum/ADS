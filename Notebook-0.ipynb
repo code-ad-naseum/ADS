{
    "metadata": {
        "kernelspec": {
            "name": "python3",
            "display_name": "Python 3"
        },
        "language_info": {
            "name": "python",
            "version": "3.7.2",
            "mimetype": "text/x-python",
            "codemirror_mode": {
                "name": "ipython",
                "version": 3
            },
            "pygments_lexer": "ipython3",
            "nbconvert_exporter": "python",
            "file_extension": ".py"
        }
    },
    "nbformat_minor": 2,
    "nbformat": 4,
    "cells": [
        {
            "cell_type": "markdown",
            "source": "# Python Hello World\n## My First Python Progrom in a Notebook",
            "metadata": {}
        },
        {
            "cell_type": "code",
            "source": "print (\"Hello World!\")\na = \"Hello World!\"",
            "metadata": {},
            "outputs": [
                {
                    "name": "stdout",
                    "text": "Hello World!\n",
                    "output_type": "stream"
                }
            ],
            "execution_count": 1
        },
        {
            "cell_type": "code",
            "source": "print (a.split(' '))\nprint (a.split('W'))",
            "metadata": {},
            "outputs": [
                {
                    "name": "stdout",
                    "text": "['Hello', 'World!']\n['Hello ', 'orld!']\n",
                    "output_type": "stream"
                }
            ],
            "execution_count": 2
        },
        {
            "cell_type": "code",
            "source": "for letter in a:\n        print (letter)",
            "metadata": {},
            "outputs": [
                {
                    "name": "stdout",
                    "text": "H\ne\nl\nl\no\n \nW\no\nr\nl\nd\n!\n",
                    "output_type": "stream"
                }
            ],
            "execution_count": 3
        }
    ]
}